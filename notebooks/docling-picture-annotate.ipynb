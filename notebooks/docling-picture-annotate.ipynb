{
 "cells": [
  {
   "cell_type": "code",
   "execution_count": 1,
   "id": "b80f2191",
   "metadata": {},
   "outputs": [
    {
     "name": "stdout",
     "output_type": "stream",
     "text": [
      "Note: you may need to restart the kernel to use updated packages.\n"
     ]
    },
    {
     "name": "stderr",
     "output_type": "stream",
     "text": [
      "c:\\Users\\tanathip\\Documents\\Repository\\simple-multimodal-rag-application\\.venv\\Scripts\\python.exe: No module named pip\n"
     ]
    }
   ],
   "source": [
    "%pip install -q docling[vlm] ipython"
   ]
  },
  {
   "cell_type": "code",
   "execution_count": 1,
   "id": "036d44a8",
   "metadata": {},
   "outputs": [],
   "source": [
    "from docling.datamodel.base_models import InputFormat\n",
    "from docling.datamodel.pipeline_options import PdfPipelineOptions\n",
    "from docling.document_converter import DocumentConverter, PdfFormatOption"
   ]
  },
  {
   "cell_type": "code",
   "execution_count": 2,
   "id": "adbf8cc7",
   "metadata": {},
   "outputs": [],
   "source": [
    "# The source document\n",
    "DOC_SOURCE = \"https://arxiv.org/pdf/2501.17887\""
   ]
  },
  {
   "cell_type": "code",
   "execution_count": 3,
   "id": "a51b9911",
   "metadata": {},
   "outputs": [
    {
     "name": "stderr",
     "output_type": "stream",
     "text": [
      "2025-09-28 16:39:19,033 - INFO - detected formats: [<InputFormat.PDF: 'pdf'>]\n",
      "2025-09-28 16:39:19,118 - INFO - Going to convert document batch...\n",
      "2025-09-28 16:39:19,120 - INFO - Initializing pipeline for StandardPdfPipeline with options hash aa9f55aff62f306a7a681d0256fe95ca\n",
      "2025-09-28 16:39:19,593 - INFO - Loading plugin 'docling_defaults'\n",
      "2025-09-28 16:39:19,596 - WARNING - The plugin langchain_docling will not be loaded because Docling is being executed with allow_external_plugins=false.\n",
      "2025-09-28 16:39:19,597 - INFO - Registered picture descriptions: ['vlm', 'api']\n",
      "Xet Storage is enabled for this repo, but the 'hf_xet' package is not installed. Falling back to regular HTTP download. For better performance, install the package with: `pip install huggingface_hub[hf_xet]` or `pip install hf_xet`\n",
      "2025-09-28 16:39:21,074 - WARNING - Xet Storage is enabled for this repo, but the 'hf_xet' package is not installed. Falling back to regular HTTP download. For better performance, install the package with: `pip install huggingface_hub[hf_xet]` or `pip install hf_xet`\n",
      "Xet Storage is enabled for this repo, but the 'hf_xet' package is not installed. Falling back to regular HTTP download. For better performance, install the package with: `pip install huggingface_hub[hf_xet]` or `pip install hf_xet`\n",
      "2025-09-28 16:39:21,388 - WARNING - Xet Storage is enabled for this repo, but the 'hf_xet' package is not installed. Falling back to regular HTTP download. For better performance, install the package with: `pip install huggingface_hub[hf_xet]` or `pip install hf_xet`\n",
      "Xet Storage is enabled for this repo, but the 'hf_xet' package is not installed. Falling back to regular HTTP download. For better performance, install the package with: `pip install huggingface_hub[hf_xet]` or `pip install hf_xet`\n",
      "2025-09-28 16:39:21,398 - WARNING - Xet Storage is enabled for this repo, but the 'hf_xet' package is not installed. Falling back to regular HTTP download. For better performance, install the package with: `pip install huggingface_hub[hf_xet]` or `pip install hf_xet`\n",
      "2025-09-28 16:48:17,619 - INFO - Accelerator device: 'cpu'\n"
     ]
    },
    {
     "data": {
      "application/vnd.jupyter.widget-view+json": {
       "model_id": "671a04bdb4b74d7996ea6598d8da24f2",
       "version_major": 2,
       "version_minor": 0
      },
      "text/plain": [
       "Loading checkpoint shards:   0%|          | 0/2 [00:00<?, ?it/s]"
      ]
     },
     "metadata": {},
     "output_type": "display_data"
    },
    {
     "name": "stderr",
     "output_type": "stream",
     "text": [
      "2025-09-28 16:48:21,276 - INFO - Loading plugin 'docling_defaults'\n",
      "2025-09-28 16:48:21,289 - WARNING - The plugin langchain_docling will not be loaded because Docling is being executed with allow_external_plugins=false.\n",
      "2025-09-28 16:48:21,291 - INFO - Registered ocr engines: ['easyocr', 'ocrmac', 'rapidocr', 'tesserocr', 'tesseract']\n",
      "2025-09-28 16:48:21,628 - INFO - Accelerator device: 'cpu'\n",
      "2025-09-28 16:48:24,153 - INFO - Accelerator device: 'cpu'\n",
      "2025-09-28 16:48:25,804 - INFO - Accelerator device: 'cpu'\n",
      "2025-09-28 16:48:26,468 - INFO - Processing document 2501.17887v1.pdf\n",
      "`generation_config` default values have been modified to match model-specific defaults: {'pad_token_id': 0, 'bos_token_id': 0, 'eos_token_id': 0}. If this is not desired, please set these values explicitly.\n",
      "2025-09-28 17:58:52,982 - INFO - Finished converting document 2501.17887v1.pdf in 4774.38 sec.\n"
     ]
    }
   ],
   "source": [
    "from docling.datamodel.pipeline_options import granite_picture_description\n",
    "\n",
    "pipeline_options = PdfPipelineOptions()\n",
    "pipeline_options.do_picture_description = True\n",
    "pipeline_options.picture_description_options = (\n",
    "    granite_picture_description  # <-- the model choice\n",
    ")\n",
    "pipeline_options.picture_description_options.prompt = (\n",
    "    \"Describe the image in three sentences. Be consise and accurate.\"\n",
    ")\n",
    "pipeline_options.images_scale = 2.0\n",
    "pipeline_options.generate_picture_images = True\n",
    "\n",
    "converter = DocumentConverter(\n",
    "    format_options={\n",
    "        InputFormat.PDF: PdfFormatOption(\n",
    "            pipeline_options=pipeline_options,\n",
    "        )\n",
    "    }\n",
    ")\n",
    "doc = converter.convert(DOC_SOURCE).document"
   ]
  },
  {
   "cell_type": "code",
   "execution_count": 7,
   "id": "afd78d62",
   "metadata": {},
   "outputs": [
    {
     "data": {
      "text/html": [
       "Picture #/pictures/0CaptionFigure 1: Sketch of Docling's pipelines and usage model. Both PDF pipeline and simple pipeline build up a DoclingDocument representation, which can be further enriched. Downstream applications can utilize Docling's API to inspect, export, or chunk the document for various purposes.Annotations (ibm-granite/granite-vision-3.3-2b)A diagram of a PDF Pipeline and a simple pipeline.\n",
       "Picture #/pictures/1CaptionFigure 2: Dataset categories and sample counts for documents and pages.Annotations (ibm-granite/granite-vision-3.3-2b)A pie chart shows the number of documents per category.\n",
       "Picture #/pictures/2CaptionFigure 3: Distribution of conversion times for all documents, ordered by number of pages in a document, on all system configurations. Every dot represents one document. Log/log scale is used to even the spacing, since both number of pages and conversion times have long-tail distributions.Annotations (ibm-granite/granite-vision-3.3-2b)the plot shows the number of pages in the book and the number of characters in the text.\n",
       "Picture #/pictures/3CaptionFigure 4: Contributions of PDF backend and AI models to the conversion time of a page (in seconds per page). Lower is better. Left: Ranges of time contributions for each model to pages it was applied on (i.e., OCR was applied only on pages with bitmaps, table structure was applied only on pages with tables). Right: Average time contribution to a page in the benchmark dataset (factoring in zero-time contribution for OCR and table structure models on pages without bitmaps or tables) .Annotations (ibm-granite/granite-vision-3.3-2b)The graph shows the performance of different CPU and GPU types.\n",
       "Picture #/pictures/4CaptionFigure 5: Conversion time in seconds per page on our dataset in three scenarios, across all assets and system configurations. Lower bars are better. The configuration includes OCR and table structure recognition ( fast table option on Docling and MinerU, hi res in unstructured, as shown in table 1).Annotations (ibm-granite/granite-vision-3.3-2b)a graph showing the number of people who have been diagnosed with cancer in the uk, and the number of people who have been diagnosed with cancer in the uk.\n"
      ],
      "text/plain": [
       "<IPython.core.display.HTML object>"
      ]
     },
     "execution_count": 7,
     "metadata": {},
     "output_type": "execute_result"
    }
   ],
   "source": [
    "from docling_core.types.doc.document import PictureDescriptionData\n",
    "from IPython import display\n",
    "\n",
    "html_buffer = []\n",
    "# display the first 5 pictures and their captions and annotations:\n",
    "for pic in doc.pictures[:5]:\n",
    "    html_item = (\n",
    "        f\"Picture {pic.self_ref}\"\n",
    "        f''\n",
    "        f\"Caption{pic.caption_text(doc=doc)}\"\n",
    "    )\n",
    "    for annotation in pic.annotations:\n",
    "        if not isinstance(annotation, PictureDescriptionData):\n",
    "            continue\n",
    "        html_item += (\n",
    "            f\"Annotations ({annotation.provenance}){annotation.text}\\n\"\n",
    "        )\n",
    "    html_buffer.append(html_item)\n",
    "display.HTML(\"\".join(html_buffer))"
   ]
  }
 ],
 "metadata": {
  "kernelspec": {
   "display_name": "simple-multimodal-rag-application",
   "language": "python",
   "name": "python3"
  },
  "language_info": {
   "codemirror_mode": {
    "name": "ipython",
    "version": 3
   },
   "file_extension": ".py",
   "mimetype": "text/x-python",
   "name": "python",
   "nbconvert_exporter": "python",
   "pygments_lexer": "ipython3",
   "version": "3.12.9"
  }
 },
 "nbformat": 4,
 "nbformat_minor": 5
}
