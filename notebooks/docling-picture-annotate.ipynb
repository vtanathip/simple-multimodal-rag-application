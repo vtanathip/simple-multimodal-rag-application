{
 "cells": [
  {
   "cell_type": "code",
   "execution_count": 1,
   "id": "b80f2191",
   "metadata": {},
   "outputs": [
    {
     "name": "stdout",
     "output_type": "stream",
     "text": [
      "Note: you may need to restart the kernel to use updated packages.\n"
     ]
    },
    {
     "name": "stderr",
     "output_type": "stream",
     "text": [
      "c:\\Users\\tanathip\\Documents\\Repository\\simple-multimodal-rag-application\\.venv\\Scripts\\python.exe: No module named pip\n"
     ]
    }
   ],
   "source": [
    "%pip install -q docling[vlm] ipython"
   ]
  },
  {
   "cell_type": "code",
   "execution_count": 1,
   "id": "036d44a8",
   "metadata": {},
   "outputs": [],
   "source": [
    "from docling.datamodel.base_models import InputFormat\n",
    "from docling.datamodel.pipeline_options import PdfPipelineOptions\n",
    "from docling.document_converter import DocumentConverter, PdfFormatOption"
   ]
  },
  {
   "cell_type": "code",
   "execution_count": 2,
   "id": "adbf8cc7",
   "metadata": {},
   "outputs": [],
   "source": [
    "# The source document\n",
    "DOC_SOURCE = \"https://arxiv.org/pdf/2501.17887\""
   ]
  },
  {
   "cell_type": "code",
   "execution_count": null,
   "id": "a51b9911",
   "metadata": {},
   "outputs": [
    {
     "name": "stderr",
     "output_type": "stream",
     "text": [
      "2025-09-28 16:39:19,033 - INFO - detected formats: [<InputFormat.PDF: 'pdf'>]\n",
      "2025-09-28 16:39:19,118 - INFO - Going to convert document batch...\n",
      "2025-09-28 16:39:19,120 - INFO - Initializing pipeline for StandardPdfPipeline with options hash aa9f55aff62f306a7a681d0256fe95ca\n",
      "2025-09-28 16:39:19,593 - INFO - Loading plugin 'docling_defaults'\n",
      "2025-09-28 16:39:19,596 - WARNING - The plugin langchain_docling will not be loaded because Docling is being executed with allow_external_plugins=false.\n",
      "2025-09-28 16:39:19,597 - INFO - Registered picture descriptions: ['vlm', 'api']\n",
      "Xet Storage is enabled for this repo, but the 'hf_xet' package is not installed. Falling back to regular HTTP download. For better performance, install the package with: `pip install huggingface_hub[hf_xet]` or `pip install hf_xet`\n",
      "2025-09-28 16:39:21,074 - WARNING - Xet Storage is enabled for this repo, but the 'hf_xet' package is not installed. Falling back to regular HTTP download. For better performance, install the package with: `pip install huggingface_hub[hf_xet]` or `pip install hf_xet`\n",
      "Xet Storage is enabled for this repo, but the 'hf_xet' package is not installed. Falling back to regular HTTP download. For better performance, install the package with: `pip install huggingface_hub[hf_xet]` or `pip install hf_xet`\n",
      "2025-09-28 16:39:21,388 - WARNING - Xet Storage is enabled for this repo, but the 'hf_xet' package is not installed. Falling back to regular HTTP download. For better performance, install the package with: `pip install huggingface_hub[hf_xet]` or `pip install hf_xet`\n",
      "Xet Storage is enabled for this repo, but the 'hf_xet' package is not installed. Falling back to regular HTTP download. For better performance, install the package with: `pip install huggingface_hub[hf_xet]` or `pip install hf_xet`\n",
      "2025-09-28 16:39:21,398 - WARNING - Xet Storage is enabled for this repo, but the 'hf_xet' package is not installed. Falling back to regular HTTP download. For better performance, install the package with: `pip install huggingface_hub[hf_xet]` or `pip install hf_xet`\n"
     ]
    }
   ],
   "source": [
    "from docling.datamodel.pipeline_options import granite_picture_description\n",
    "\n",
    "pipeline_options = PdfPipelineOptions()\n",
    "pipeline_options.do_picture_description = True\n",
    "pipeline_options.picture_description_options = (\n",
    "    granite_picture_description  # <-- the model choice\n",
    ")\n",
    "pipeline_options.picture_description_options.prompt = (\n",
    "    \"Describe the image in three sentences. Be consise and accurate.\"\n",
    ")\n",
    "pipeline_options.images_scale = 2.0\n",
    "pipeline_options.generate_picture_images = True\n",
    "\n",
    "converter = DocumentConverter(\n",
    "    format_options={\n",
    "        InputFormat.PDF: PdfFormatOption(\n",
    "            pipeline_options=pipeline_options,\n",
    "        )\n",
    "    }\n",
    ")\n",
    "doc = converter.convert(DOC_SOURCE).document"
   ]
  },
  {
   "cell_type": "code",
   "execution_count": null,
   "id": "afd78d62",
   "metadata": {},
   "outputs": [],
   "source": [
    "from docling_core.types.doc.document import PictureDescriptionData\n",
    "from IPython import display\n",
    "\n",
    "html_buffer = []\n",
    "# display the first 5 pictures and their captions and annotations:\n",
    "for pic in doc.pictures[:5]:\n",
    "    html_item = (\n",
    "        f\"Picture {pic.self_ref}\"\n",
    "        f''\n",
    "        f\"Caption{pic.caption_text(doc=doc)}\"\n",
    "    )\n",
    "    for annotation in pic.annotations:\n",
    "        if not isinstance(annotation, PictureDescriptionData):\n",
    "            continue\n",
    "        html_item += (\n",
    "            f\"Annotations ({annotation.provenance}){annotation.text}\\n\"\n",
    "        )\n",
    "    html_buffer.append(html_item)\n",
    "display.HTML(\"\".join(html_buffer))"
   ]
  }
 ],
 "metadata": {
  "kernelspec": {
   "display_name": "simple-multimodal-rag-application",
   "language": "python",
   "name": "python3"
  },
  "language_info": {
   "codemirror_mode": {
    "name": "ipython",
    "version": 3
   },
   "file_extension": ".py",
   "mimetype": "text/x-python",
   "name": "python",
   "nbconvert_exporter": "python",
   "pygments_lexer": "ipython3",
   "version": "3.12.9"
  }
 },
 "nbformat": 4,
 "nbformat_minor": 5
}
